{
 "cells": [
  {
   "cell_type": "markdown",
   "id": "d49e3e5e",
   "metadata": {},
   "source": [
    "This notebook reproduces the values of the standardisation parameters presented in Ginolin+24b. There might be slight variations of the values (within errorbars) due to the inclusion in Ginolin+24b of the very nearby SNe Ia ($z<0.015$) not included in the public ZTF DR2 release. The fitting procedure is here packaged into classes, but to have a better insight of how the `standax` code works, you can look at the notebooks `basic_standardisation_ztfsniadr2.ipynb`, `total_chi2.ipynb` and `totalchi2_and_standardisation.ipynb` at https://github.com/mginolin/standax/tree/main/notebooks."
   ]
  },
  {
   "cell_type": "code",
   "execution_count": 1,
   "id": "78370ccb",
   "metadata": {},
   "outputs": [],
   "source": [
    "import numpy as np\n",
    "import pandas\n",
    "from scipy.stats import norm\n",
    "from astropy.stats import mad_std\n",
    "import standax\n",
    "from jax import numpy as jnp\n",
    "import ztfcosmo"
   ]
  },
  {
   "cell_type": "markdown",
   "id": "ef1b72f3",
   "metadata": {},
   "source": [
    "# Loading data"
   ]
  },
  {
   "cell_type": "code",
   "execution_count": 2,
   "id": "86a4e04d-03fa-44b8-a797-2665e10bfe4e",
   "metadata": {},
   "outputs": [],
   "source": [
    "# Masterlist for SNe used in Ginolin+24a,b (available at https://github.com/mginolin/standax/)\n",
    "g25ab_masterlist = pandas.read_csv('Ginolin25ab_masterlist.csv')"
   ]
  },
  {
   "cell_type": "code",
   "execution_count": 3,
   "id": "5eccacfc",
   "metadata": {},
   "outputs": [],
   "source": [
    "# Loading ZTF data\n",
    "ztf_data = ztfcosmo.get_data(good_coverage=True, good_lcfit=True)\n",
    "# Only keeping SNe in the master list\n",
    "ztf_data = ztf_data[(ztf_data.index.isin(g25ab_masterlist['ztfname'])) & (ztf_data['redshift'] > 0.015)]"
   ]
  },
  {
   "cell_type": "code",
   "execution_count": 4,
   "id": "417d8d51",
   "metadata": {},
   "outputs": [
    {
     "data": {
      "text/html": [
       "<div>\n",
       "<style scoped>\n",
       "    .dataframe tbody tr th:only-of-type {\n",
       "        vertical-align: middle;\n",
       "    }\n",
       "\n",
       "    .dataframe tbody tr th {\n",
       "        vertical-align: top;\n",
       "    }\n",
       "\n",
       "    .dataframe thead th {\n",
       "        text-align: right;\n",
       "    }\n",
       "</style>\n",
       "<table border=\"1\" class=\"dataframe\">\n",
       "  <thead>\n",
       "    <tr style=\"text-align: right;\">\n",
       "      <th></th>\n",
       "      <th>redshift</th>\n",
       "      <th>redshift_err</th>\n",
       "      <th>source</th>\n",
       "      <th>t0</th>\n",
       "      <th>x0</th>\n",
       "      <th>x1</th>\n",
       "      <th>c</th>\n",
       "      <th>t0_err</th>\n",
       "      <th>x0_err</th>\n",
       "      <th>x1_err</th>\n",
       "      <th>...</th>\n",
       "      <th>dec_host</th>\n",
       "      <th>globalmass</th>\n",
       "      <th>globalmass_err</th>\n",
       "      <th>globalrestframe_gz</th>\n",
       "      <th>globalrestframe_gz_err</th>\n",
       "      <th>d_dlr</th>\n",
       "      <th>localmass</th>\n",
       "      <th>localmass_err</th>\n",
       "      <th>localrestframe_gz</th>\n",
       "      <th>localrestframe_gz_err</th>\n",
       "    </tr>\n",
       "    <tr>\n",
       "      <th>ztfname</th>\n",
       "      <th></th>\n",
       "      <th></th>\n",
       "      <th></th>\n",
       "      <th></th>\n",
       "      <th></th>\n",
       "      <th></th>\n",
       "      <th></th>\n",
       "      <th></th>\n",
       "      <th></th>\n",
       "      <th></th>\n",
       "      <th></th>\n",
       "      <th></th>\n",
       "      <th></th>\n",
       "      <th></th>\n",
       "      <th></th>\n",
       "      <th></th>\n",
       "      <th></th>\n",
       "      <th></th>\n",
       "      <th></th>\n",
       "      <th></th>\n",
       "      <th></th>\n",
       "    </tr>\n",
       "  </thead>\n",
       "  <tbody>\n",
       "    <tr>\n",
       "      <th>ZTF18aabyhlc</th>\n",
       "      <td>0.029055</td>\n",
       "      <td>0.000015</td>\n",
       "      <td>z_gal</td>\n",
       "      <td>58180.621262</td>\n",
       "      <td>0.001247</td>\n",
       "      <td>-2.747574</td>\n",
       "      <td>0.333068</td>\n",
       "      <td>0.504143</td>\n",
       "      <td>0.000122</td>\n",
       "      <td>0.091428</td>\n",
       "      <td>...</td>\n",
       "      <td>38.420393</td>\n",
       "      <td>10.003</td>\n",
       "      <td>0.120930</td>\n",
       "      <td>1.169697</td>\n",
       "      <td>0.019849</td>\n",
       "      <td>1.532268</td>\n",
       "      <td>7.405</td>\n",
       "      <td>0.263</td>\n",
       "      <td>0.732697</td>\n",
       "      <td>0.375373</td>\n",
       "    </tr>\n",
       "    <tr>\n",
       "      <th>ZTF18aagrtxs</th>\n",
       "      <td>0.029741</td>\n",
       "      <td>0.000011</td>\n",
       "      <td>z_gal</td>\n",
       "      <td>58213.150268</td>\n",
       "      <td>0.005583</td>\n",
       "      <td>-0.711100</td>\n",
       "      <td>-0.148609</td>\n",
       "      <td>0.041382</td>\n",
       "      <td>0.000170</td>\n",
       "      <td>0.037110</td>\n",
       "      <td>...</td>\n",
       "      <td>50.979166</td>\n",
       "      <td>10.583</td>\n",
       "      <td>0.154674</td>\n",
       "      <td>1.268697</td>\n",
       "      <td>0.018439</td>\n",
       "      <td>0.391638</td>\n",
       "      <td>9.062</td>\n",
       "      <td>0.057</td>\n",
       "      <td>1.272697</td>\n",
       "      <td>0.021260</td>\n",
       "    </tr>\n",
       "    <tr>\n",
       "      <th>ZTF18aagstdc</th>\n",
       "      <td>0.040367</td>\n",
       "      <td>0.003890</td>\n",
       "      <td>z_snid</td>\n",
       "      <td>58214.478445</td>\n",
       "      <td>0.004135</td>\n",
       "      <td>-0.047931</td>\n",
       "      <td>-0.097615</td>\n",
       "      <td>0.035815</td>\n",
       "      <td>0.000125</td>\n",
       "      <td>0.049832</td>\n",
       "      <td>...</td>\n",
       "      <td>42.088448</td>\n",
       "      <td>7.942</td>\n",
       "      <td>0.153154</td>\n",
       "      <td>1.082697</td>\n",
       "      <td>0.162111</td>\n",
       "      <td>0.146010</td>\n",
       "      <td>7.874</td>\n",
       "      <td>0.481</td>\n",
       "      <td>1.249697</td>\n",
       "      <td>1.128405</td>\n",
       "    </tr>\n",
       "    <tr>\n",
       "      <th>ZTF18aagtcxj</th>\n",
       "      <td>0.032359</td>\n",
       "      <td>0.000017</td>\n",
       "      <td>z_gal</td>\n",
       "      <td>58213.950331</td>\n",
       "      <td>0.001039</td>\n",
       "      <td>-1.883614</td>\n",
       "      <td>0.412887</td>\n",
       "      <td>0.043565</td>\n",
       "      <td>0.000034</td>\n",
       "      <td>0.046484</td>\n",
       "      <td>...</td>\n",
       "      <td>42.713852</td>\n",
       "      <td>10.268</td>\n",
       "      <td>0.120370</td>\n",
       "      <td>1.552697</td>\n",
       "      <td>0.018439</td>\n",
       "      <td>0.138965</td>\n",
       "      <td>9.870</td>\n",
       "      <td>0.062</td>\n",
       "      <td>1.678697</td>\n",
       "      <td>0.019105</td>\n",
       "    </tr>\n",
       "    <tr>\n",
       "      <th>ZTF18aahfbqp</th>\n",
       "      <td>0.041145</td>\n",
       "      <td>0.000013</td>\n",
       "      <td>z_gal</td>\n",
       "      <td>59208.836555</td>\n",
       "      <td>0.003087</td>\n",
       "      <td>-1.969449</td>\n",
       "      <td>-0.112340</td>\n",
       "      <td>0.204267</td>\n",
       "      <td>0.000171</td>\n",
       "      <td>0.278768</td>\n",
       "      <td>...</td>\n",
       "      <td>21.724007</td>\n",
       "      <td>10.879</td>\n",
       "      <td>0.136561</td>\n",
       "      <td>1.311697</td>\n",
       "      <td>0.018439</td>\n",
       "      <td>0.098646</td>\n",
       "      <td>10.543</td>\n",
       "      <td>0.118</td>\n",
       "      <td>1.295697</td>\n",
       "      <td>0.017692</td>\n",
       "    </tr>\n",
       "    <tr>\n",
       "      <th>...</th>\n",
       "      <td>...</td>\n",
       "      <td>...</td>\n",
       "      <td>...</td>\n",
       "      <td>...</td>\n",
       "      <td>...</td>\n",
       "      <td>...</td>\n",
       "      <td>...</td>\n",
       "      <td>...</td>\n",
       "      <td>...</td>\n",
       "      <td>...</td>\n",
       "      <td>...</td>\n",
       "      <td>...</td>\n",
       "      <td>...</td>\n",
       "      <td>...</td>\n",
       "      <td>...</td>\n",
       "      <td>...</td>\n",
       "      <td>...</td>\n",
       "      <td>...</td>\n",
       "      <td>...</td>\n",
       "      <td>...</td>\n",
       "      <td>...</td>\n",
       "    </tr>\n",
       "    <tr>\n",
       "      <th>ZTF20adadffg</th>\n",
       "      <td>0.057145</td>\n",
       "      <td>0.004883</td>\n",
       "      <td>z_snid</td>\n",
       "      <td>59221.843973</td>\n",
       "      <td>0.001442</td>\n",
       "      <td>-0.568812</td>\n",
       "      <td>-0.079290</td>\n",
       "      <td>0.093281</td>\n",
       "      <td>0.000043</td>\n",
       "      <td>0.102160</td>\n",
       "      <td>...</td>\n",
       "      <td>42.762193</td>\n",
       "      <td>9.808</td>\n",
       "      <td>0.106977</td>\n",
       "      <td>1.027697</td>\n",
       "      <td>0.020616</td>\n",
       "      <td>1.184240</td>\n",
       "      <td>8.338</td>\n",
       "      <td>0.072</td>\n",
       "      <td>1.043697</td>\n",
       "      <td>0.101213</td>\n",
       "    </tr>\n",
       "    <tr>\n",
       "      <th>ZTF20adadsgm</th>\n",
       "      <td>0.043710</td>\n",
       "      <td>0.000015</td>\n",
       "      <td>z_gal</td>\n",
       "      <td>59218.758560</td>\n",
       "      <td>0.001794</td>\n",
       "      <td>-0.922459</td>\n",
       "      <td>0.007273</td>\n",
       "      <td>0.098082</td>\n",
       "      <td>0.000055</td>\n",
       "      <td>0.058838</td>\n",
       "      <td>...</td>\n",
       "      <td>56.465291</td>\n",
       "      <td>10.689</td>\n",
       "      <td>0.105622</td>\n",
       "      <td>1.311697</td>\n",
       "      <td>0.018439</td>\n",
       "      <td>0.728861</td>\n",
       "      <td>9.283</td>\n",
       "      <td>0.057</td>\n",
       "      <td>1.230697</td>\n",
       "      <td>0.020616</td>\n",
       "    </tr>\n",
       "    <tr>\n",
       "      <th>ZTF20adadshh</th>\n",
       "      <td>0.024565</td>\n",
       "      <td>0.000010</td>\n",
       "      <td>z_gal</td>\n",
       "      <td>59220.934923</td>\n",
       "      <td>0.003165</td>\n",
       "      <td>-0.772883</td>\n",
       "      <td>0.238502</td>\n",
       "      <td>0.175093</td>\n",
       "      <td>0.000111</td>\n",
       "      <td>0.093297</td>\n",
       "      <td>...</td>\n",
       "      <td>75.201326</td>\n",
       "      <td>10.340</td>\n",
       "      <td>0.101980</td>\n",
       "      <td>1.105697</td>\n",
       "      <td>0.019209</td>\n",
       "      <td>0.337090</td>\n",
       "      <td>9.936</td>\n",
       "      <td>0.095</td>\n",
       "      <td>1.331697</td>\n",
       "      <td>0.018439</td>\n",
       "    </tr>\n",
       "    <tr>\n",
       "      <th>ZTF20adagenq</th>\n",
       "      <td>0.024389</td>\n",
       "      <td>0.000013</td>\n",
       "      <td>z_gal</td>\n",
       "      <td>59224.347945</td>\n",
       "      <td>0.007274</td>\n",
       "      <td>0.507642</td>\n",
       "      <td>-0.056941</td>\n",
       "      <td>0.123878</td>\n",
       "      <td>0.000235</td>\n",
       "      <td>0.119446</td>\n",
       "      <td>...</td>\n",
       "      <td>32.537443</td>\n",
       "      <td>9.286</td>\n",
       "      <td>0.102840</td>\n",
       "      <td>0.572697</td>\n",
       "      <td>0.022627</td>\n",
       "      <td>0.826123</td>\n",
       "      <td>8.514</td>\n",
       "      <td>0.021</td>\n",
       "      <td>0.603697</td>\n",
       "      <td>0.025554</td>\n",
       "    </tr>\n",
       "    <tr>\n",
       "      <th>ZTF18aczeraq</th>\n",
       "      <td>0.058635</td>\n",
       "      <td>0.000011</td>\n",
       "      <td>z_gal</td>\n",
       "      <td>58483.107214</td>\n",
       "      <td>0.000913</td>\n",
       "      <td>0.985630</td>\n",
       "      <td>0.088372</td>\n",
       "      <td>0.243003</td>\n",
       "      <td>0.000037</td>\n",
       "      <td>0.287474</td>\n",
       "      <td>...</td>\n",
       "      <td>46.608658</td>\n",
       "      <td>9.818</td>\n",
       "      <td>0.106977</td>\n",
       "      <td>0.867697</td>\n",
       "      <td>0.022023</td>\n",
       "      <td>0.632983</td>\n",
       "      <td>8.656</td>\n",
       "      <td>0.040</td>\n",
       "      <td>0.826697</td>\n",
       "      <td>0.033615</td>\n",
       "    </tr>\n",
       "  </tbody>\n",
       "</table>\n",
       "<p>932 rows × 40 columns</p>\n",
       "</div>"
      ],
      "text/plain": [
       "              redshift  redshift_err  source            t0        x0  \\\n",
       "ztfname                                                                \n",
       "ZTF18aabyhlc  0.029055      0.000015   z_gal  58180.621262  0.001247   \n",
       "ZTF18aagrtxs  0.029741      0.000011   z_gal  58213.150268  0.005583   \n",
       "ZTF18aagstdc  0.040367      0.003890  z_snid  58214.478445  0.004135   \n",
       "ZTF18aagtcxj  0.032359      0.000017   z_gal  58213.950331  0.001039   \n",
       "ZTF18aahfbqp  0.041145      0.000013   z_gal  59208.836555  0.003087   \n",
       "...                ...           ...     ...           ...       ...   \n",
       "ZTF20adadffg  0.057145      0.004883  z_snid  59221.843973  0.001442   \n",
       "ZTF20adadsgm  0.043710      0.000015   z_gal  59218.758560  0.001794   \n",
       "ZTF20adadshh  0.024565      0.000010   z_gal  59220.934923  0.003165   \n",
       "ZTF20adagenq  0.024389      0.000013   z_gal  59224.347945  0.007274   \n",
       "ZTF18aczeraq  0.058635      0.000011   z_gal  58483.107214  0.000913   \n",
       "\n",
       "                    x1         c    t0_err    x0_err    x1_err  ...  \\\n",
       "ztfname                                                         ...   \n",
       "ZTF18aabyhlc -2.747574  0.333068  0.504143  0.000122  0.091428  ...   \n",
       "ZTF18aagrtxs -0.711100 -0.148609  0.041382  0.000170  0.037110  ...   \n",
       "ZTF18aagstdc -0.047931 -0.097615  0.035815  0.000125  0.049832  ...   \n",
       "ZTF18aagtcxj -1.883614  0.412887  0.043565  0.000034  0.046484  ...   \n",
       "ZTF18aahfbqp -1.969449 -0.112340  0.204267  0.000171  0.278768  ...   \n",
       "...                ...       ...       ...       ...       ...  ...   \n",
       "ZTF20adadffg -0.568812 -0.079290  0.093281  0.000043  0.102160  ...   \n",
       "ZTF20adadsgm -0.922459  0.007273  0.098082  0.000055  0.058838  ...   \n",
       "ZTF20adadshh -0.772883  0.238502  0.175093  0.000111  0.093297  ...   \n",
       "ZTF20adagenq  0.507642 -0.056941  0.123878  0.000235  0.119446  ...   \n",
       "ZTF18aczeraq  0.985630  0.088372  0.243003  0.000037  0.287474  ...   \n",
       "\n",
       "               dec_host  globalmass  globalmass_err  globalrestframe_gz  \\\n",
       "ztfname                                                                   \n",
       "ZTF18aabyhlc  38.420393      10.003        0.120930            1.169697   \n",
       "ZTF18aagrtxs  50.979166      10.583        0.154674            1.268697   \n",
       "ZTF18aagstdc  42.088448       7.942        0.153154            1.082697   \n",
       "ZTF18aagtcxj  42.713852      10.268        0.120370            1.552697   \n",
       "ZTF18aahfbqp  21.724007      10.879        0.136561            1.311697   \n",
       "...                 ...         ...             ...                 ...   \n",
       "ZTF20adadffg  42.762193       9.808        0.106977            1.027697   \n",
       "ZTF20adadsgm  56.465291      10.689        0.105622            1.311697   \n",
       "ZTF20adadshh  75.201326      10.340        0.101980            1.105697   \n",
       "ZTF20adagenq  32.537443       9.286        0.102840            0.572697   \n",
       "ZTF18aczeraq  46.608658       9.818        0.106977            0.867697   \n",
       "\n",
       "              globalrestframe_gz_err     d_dlr  localmass  localmass_err  \\\n",
       "ztfname                                                                    \n",
       "ZTF18aabyhlc                0.019849  1.532268      7.405          0.263   \n",
       "ZTF18aagrtxs                0.018439  0.391638      9.062          0.057   \n",
       "ZTF18aagstdc                0.162111  0.146010      7.874          0.481   \n",
       "ZTF18aagtcxj                0.018439  0.138965      9.870          0.062   \n",
       "ZTF18aahfbqp                0.018439  0.098646     10.543          0.118   \n",
       "...                              ...       ...        ...            ...   \n",
       "ZTF20adadffg                0.020616  1.184240      8.338          0.072   \n",
       "ZTF20adadsgm                0.018439  0.728861      9.283          0.057   \n",
       "ZTF20adadshh                0.019209  0.337090      9.936          0.095   \n",
       "ZTF20adagenq                0.022627  0.826123      8.514          0.021   \n",
       "ZTF18aczeraq                0.022023  0.632983      8.656          0.040   \n",
       "\n",
       "              localrestframe_gz  localrestframe_gz_err  \n",
       "ztfname                                                 \n",
       "ZTF18aabyhlc           0.732697               0.375373  \n",
       "ZTF18aagrtxs           1.272697               0.021260  \n",
       "ZTF18aagstdc           1.249697               1.128405  \n",
       "ZTF18aagtcxj           1.678697               0.019105  \n",
       "ZTF18aahfbqp           1.295697               0.017692  \n",
       "...                         ...                    ...  \n",
       "ZTF20adadffg           1.043697               0.101213  \n",
       "ZTF20adadsgm           1.230697               0.020616  \n",
       "ZTF20adadshh           1.331697               0.018439  \n",
       "ZTF20adagenq           0.603697               0.025554  \n",
       "ZTF18aczeraq           0.826697               0.033615  \n",
       "\n",
       "[932 rows x 40 columns]"
      ]
     },
     "execution_count": 4,
     "metadata": {},
     "output_type": "execute_result"
    }
   ],
   "source": [
    "ztf_data"
   ]
  },
  {
   "cell_type": "code",
   "execution_count": 5,
   "id": "bc2672c1-3ed2-41a3-969b-efff5707ee0e",
   "metadata": {},
   "outputs": [],
   "source": [
    "# Adding a magnitude column (the zero point does not matter as we are only looking at residuals)\n",
    "ztf_data['mag'] = -2.5*np.log10(ztf_data['x0']) + 25\n",
    "ztf_data['mag_err'] = 2.5*ztf_data['x0_err']/(np.log(10)*ztf_data['x0'])"
   ]
  },
  {
   "cell_type": "code",
   "execution_count": 6,
   "id": "54f94f03-b0d8-48ba-924d-18a122da3341",
   "metadata": {},
   "outputs": [],
   "source": [
    "# SNe with redshift from host features\n",
    "mask_hostz = ztf_data['source'].isin(['z_gal', 'z_nonSEDm'])"
   ]
  },
  {
   "cell_type": "code",
   "execution_count": 7,
   "id": "d8fc8a58-861d-4300-88dd-e24d08b3c4a4",
   "metadata": {},
   "outputs": [
    {
     "name": "stdout",
     "output_type": "stream",
     "text": [
      "693\n",
      "932\n"
     ]
    }
   ],
   "source": [
    "print(len(ztf_data[mask_hostz]))\n",
    "print(len(ztf_data))"
   ]
  },
  {
   "cell_type": "markdown",
   "id": "b88f7fe6",
   "metadata": {},
   "source": [
    "### Outlier rejection"
   ]
  },
  {
   "cell_type": "code",
   "execution_count": 8,
   "id": "d4886638-ab06-4d4b-8b30-b132d38c3a51",
   "metadata": {},
   "outputs": [],
   "source": [
    "a = standax.hubble.CleanDataset.from_dataset(ztf_data)\n",
    "mask = a.reject_outliers() \n",
    "ztf_data_cut = ztf_data[mask]"
   ]
  },
  {
   "cell_type": "code",
   "execution_count": 9,
   "id": "7e3d48aa",
   "metadata": {},
   "outputs": [
    {
     "name": "stdout",
     "output_type": "stream",
     "text": [
      "925\n"
     ]
    }
   ],
   "source": [
    "print(len(ztf_data_cut))"
   ]
  },
  {
   "cell_type": "markdown",
   "id": "2c231cda",
   "metadata": {},
   "source": [
    "# Standardisation"
   ]
  },
  {
   "cell_type": "markdown",
   "id": "a0732eee",
   "metadata": {},
   "source": [
    "## Regular standardisation with the total-chi2 method from standax"
   ]
  },
  {
   "cell_type": "markdown",
   "id": "8227bcd0",
   "metadata": {},
   "source": [
    "### Full sample\n",
    "\n",
    "The step is on local $(g-z)$ colour, and takes into account errors on colour. You can replace the parameter on which you perform the step by switching `localrestframe_gz` by `globalrestframe_gz`, `localmass` or `globalmass`."
   ]
  },
  {
   "cell_type": "code",
   "execution_count": 10,
   "id": "3510bbba-a51a-4a56-aa0c-d3296f641445",
   "metadata": {},
   "outputs": [],
   "source": [
    "bl = standax.hubble.HubbleResiduals.from_dataset(ztf_data_cut)\n",
    "bl.set_block_hubble_const(False)\n",
    "mask_blue = norm.cdf(1, loc=bl.data[\"localrestframe_gz\"], scale=bl.data[\"localrestframe_gz_err\"])\n",
    "bl.set_stepcdf(mask_blue)\n",
    "bl.fit_step(smooth_step=True, guess_beta=3.055, guess_alpha=0.161, guess_step=0.141)"
   ]
  },
  {
   "cell_type": "code",
   "execution_count": 11,
   "id": "379a9b74-fd63-40d1-966f-47490aac1e83",
   "metadata": {},
   "outputs": [
    {
     "name": "stdout",
     "output_type": "stream",
     "text": [
      "0.16083123 0.009549542040235826\n",
      "3.0574682 0.05439480082926218\n",
      "0.14116435 0.02189217770030163\n"
     ]
    }
   ],
   "source": [
    "print(bl.alpha, bl.alpha_err)\n",
    "print(bl.beta, bl.beta_err)\n",
    "print(bl.step, bl.step_err)"
   ]
  },
  {
   "cell_type": "markdown",
   "id": "a38354cc",
   "metadata": {},
   "source": [
    "### Only SNe with a redshift from host features"
   ]
  },
  {
   "cell_type": "code",
   "execution_count": 12,
   "id": "d4d0cf62-e659-4c42-9d84-7e0de05a2cb5",
   "metadata": {},
   "outputs": [],
   "source": [
    "bl_hostz = standax.hubble.HubbleResiduals.from_dataset(ztf_data[mask & mask_hostz])\n",
    "bl_hostz.set_block_hubble_const(False)\n",
    "mask_blue = norm.cdf(1, loc=bl_hostz.data[\"localrestframe_gz\"], scale=bl_hostz.data[\"localrestframe_gz_err\"])\n",
    "bl_hostz.set_stepcdf(mask_blue)\n",
    "bl_hostz.fit_step(smooth_step=True)"
   ]
  },
  {
   "cell_type": "code",
   "execution_count": 13,
   "id": "b919334c-f332-4f4e-b6a3-1e363d086fdc",
   "metadata": {},
   "outputs": [
    {
     "name": "stdout",
     "output_type": "stream",
     "text": [
      "0.17319603 0.008942897729159677\n",
      "3.0629475 0.050879889293846035\n",
      "0.14016461 0.020248466267404522\n"
     ]
    }
   ],
   "source": [
    "print(bl_hostz.alpha, bl_hostz.alpha_err)\n",
    "print(bl_hostz.beta, bl_hostz.beta_err)\n",
    "print(bl_hostz.step, bl_hostz.step_err)"
   ]
  },
  {
   "cell_type": "markdown",
   "id": "fd93cb43",
   "metadata": {},
   "source": [
    "Looking at the dispersion for the sample with all redshifts, and the sample with redshift coming from host features (~70% of the sample)."
   ]
  },
  {
   "cell_type": "code",
   "execution_count": 14,
   "id": "87ddfa83-cf97-4df2-8e20-415a2a4c5150",
   "metadata": {},
   "outputs": [
    {
     "name": "stdout",
     "output_type": "stream",
     "text": [
      "0.17568359\n",
      "0.16345394\n"
     ]
    }
   ],
   "source": [
    "# nMAD dispersion (from astropy.stats.mad_std, less sensitive to outliers)\n",
    "print(mad_std(bl.res_corr))\n",
    "print(mad_std(bl_hostz.res_corr))"
   ]
  },
  {
   "cell_type": "code",
   "execution_count": 15,
   "id": "071e1dfe-c0a0-496d-a6be-b56ebf8489bb",
   "metadata": {},
   "outputs": [
    {
     "name": "stdout",
     "output_type": "stream",
     "text": [
      "0.22424571\n",
      "0.20951256\n"
     ]
    }
   ],
   "source": [
    "# Regular STD\n",
    "print(np.std(bl.res_corr))\n",
    "print(np.std(bl_hostz.res_corr))"
   ]
  },
  {
   "cell_type": "markdown",
   "id": "838bccd6",
   "metadata": {},
   "source": [
    "## Broken-$\\alpha$ standardisation"
   ]
  },
  {
   "cell_type": "code",
   "execution_count": 16,
   "id": "c8aaecfe-31e3-4798-a572-943b9beff1ba",
   "metadata": {},
   "outputs": [],
   "source": [
    "bl_broken = standax.hubble.HubbleResiduals.from_dataset(ztf_data_cut)\n",
    "bl_broken.set_block_hubble_const(False)\n",
    "mask_blue = norm.cdf(1, loc=bl_broken.data[\"localrestframe_gz\"], scale=bl_broken.data[\"localrestframe_gz_err\"])\n",
    "bl_broken.set_stepcdf(mask_blue)\n",
    "bl_broken.fit_broken_alpha(guess_sigma=0.15, smooth_step=True, force_sigmaint=False)"
   ]
  },
  {
   "cell_type": "code",
   "execution_count": 17,
   "id": "ec6fe2f6-f587-4182-8bd5-7095022b670c",
   "metadata": {},
   "outputs": [
    {
     "name": "stdout",
     "output_type": "stream",
     "text": [
      "[Array(0.26895937, dtype=float32), Array(0.07897715, dtype=float32)] [np.float64(0.011369049720191027), np.float64(0.010274620647527207)]\n",
      "-0.47794396 0.07790712\n",
      "3.2683122 0.028836189606424135\n",
      "0.16492689 0.01259211228329771\n"
     ]
    }
   ],
   "source": [
    "print(bl_broken.alpha, bl_broken.alpha_err)\n",
    "print(bl_broken.x1break, bl_broken.x1break_err)\n",
    "print(bl_broken.beta, bl_broken.beta_err)\n",
    "print(bl_broken.step, bl_broken.step_err)"
   ]
  },
  {
   "cell_type": "markdown",
   "id": "de63d2c2",
   "metadata": {},
   "source": [
    "## A posteriori fit for the step\n",
    "This method corresponds to the pink points in Fig.10 of Ginolin+24b"
   ]
  },
  {
   "cell_type": "code",
   "execution_count": 18,
   "id": "5ace9f14-ef71-4a79-b256-68bb8d0058c8",
   "metadata": {},
   "outputs": [],
   "source": [
    "# First fit for alpha and beta\n",
    "bl_post = standax.hubble.HubbleResiduals.from_dataset(ztf_data_cut)\n",
    "bl_post.set_block_hubble_const(False)"
   ]
  },
  {
   "cell_type": "code",
   "execution_count": 19,
   "id": "084fc4f6-09e4-4df9-8999-81314ab138c8",
   "metadata": {},
   "outputs": [
    {
     "name": "stdout",
     "output_type": "stream",
     "text": [
      "0.13035455 0.008334006578629522\n",
      "2.9923112 0.06138569497223602\n",
      "None None\n"
     ]
    }
   ],
   "source": [
    "print(bl_post.alpha, bl_post.alpha_err)\n",
    "print(bl_post.beta, bl_post.beta_err)\n",
    "print(bl_post.step, bl_post.step_err)"
   ]
  },
  {
   "cell_type": "code",
   "execution_count": 20,
   "id": "2a92843e-db7c-4f83-98e3-1d3541c25c42",
   "metadata": {},
   "outputs": [],
   "source": [
    "# Then compute the step as an posteriori correction\n",
    "\n",
    "stepcdf = norm.cdf(1, loc=bl.data[\"localrestframe_gz\"], scale=bl.data[\"localrestframe_gz_err\"])\n",
    "step = np.average(bl_post.res_corr, weights=stepcdf)-np.average(bl_post.res_corr, weights=1-stepcdf)\n",
    "err1 = np.sqrt(np.average((bl_post.res_corr-np.average(bl_post.res_corr, weights=stepcdf))**2, weights=stepcdf))/np.sqrt(len(bl_post.res_corr))\n",
    "err2 = np.sqrt(np.average((bl_post.res_corr-np.average(bl_post.res_corr, weights=1-stepcdf))**2, weights=1-stepcdf))/np.sqrt(len(bl_post.res_corr))\n",
    "step_err = np.sqrt(err1**2+err2**2)"
   ]
  },
  {
   "cell_type": "code",
   "execution_count": 21,
   "id": "e188dff6-e4a4-42ee-b937-068c9da110e4",
   "metadata": {},
   "outputs": [
    {
     "name": "stdout",
     "output_type": "stream",
     "text": [
      "0.08736803296530599 0.010446394404445641\n"
     ]
    }
   ],
   "source": [
    "print(step, step_err)"
   ]
  },
  {
   "cell_type": "code",
   "execution_count": null,
   "id": "9454404c",
   "metadata": {},
   "outputs": [],
   "source": []
  }
 ],
 "metadata": {
  "kernelspec": {
   "display_name": "Python 3 (ipykernel)",
   "language": "python",
   "name": "python3"
  },
  "language_info": {
   "codemirror_mode": {
    "name": "ipython",
    "version": 3
   },
   "file_extension": ".py",
   "mimetype": "text/x-python",
   "name": "python",
   "nbconvert_exporter": "python",
   "pygments_lexer": "ipython3",
   "version": "3.13.2"
  }
 },
 "nbformat": 4,
 "nbformat_minor": 5
}
