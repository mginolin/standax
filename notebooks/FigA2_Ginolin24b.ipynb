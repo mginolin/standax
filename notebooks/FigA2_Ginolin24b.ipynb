{
 "cells": [
  {
   "cell_type": "markdown",
   "id": "c6e0f56b",
   "metadata": {},
   "source": [
    "This notebook does a similar figure than Fig. A.2 of Ginolin+24b. This figure shows that on a typical SN Ia standardisation problem a regular loglikelihood fitting code will output biased standardisation parameters, while the total-$\\chi^2$ method (as in the module `standax`) outputs unbiased estimates of $\\alpha$, $\\beta$ and $\\gamma$.It will not be the exact same figure as the SN Ia modelling used in this notebook paper is quite simple, whereas the one in the paper includes correlations between SN Ia properties and their environment. This modelling is a work in progress and thus not yet public, but will be the subject of a dedicated paper."
   ]
  },
  {
   "cell_type": "code",
   "execution_count": null,
   "id": "32117d19",
   "metadata": {},
   "outputs": [],
   "source": [
    "import warnings\n",
    "import skysurvey\n",
    "from scipy import stats\n",
    "from jax import tree_util\n",
    "import jax.numpy as jnp\n",
    "import numpy as np\n",
    "import pandas\n",
    "import matplotlib.pyplot as plt\n",
    "from scipy.stats import norm\n",
    "from tqdm import tqdm\n",
    "import standax"
   ]
  },
  {
   "cell_type": "code",
   "execution_count": 2,
   "id": "c4898c8d-f457-4167-8e42-b5fabdff1e33",
   "metadata": {},
   "outputs": [],
   "source": [
    "SIMULATION_MODEL = dict( redshift = {\"kwargs\": {\"zmax\":0.2}, \"as\":\"z\"},\n",
    "                              \n",
    "                   x1 = {\"func\": skysurvey.target.snia.SNeIaStretch.nicolas2021, \n",
    "                        \"kwargs\": {\"xx\":\"-4:4:0.005\", \"mu1\":0.42, \"sigma1\":0.54, \n",
    "                     \"mu2\":-1.24, \"sigma2\":0.73, \"a\":0.2,\n",
    "                     \"fprompt\":0.5}}, \n",
    "                   \n",
    "                   c = {\"func\": skysurvey.target.snia.SNeIaColor.intrinsic_and_dust,\n",
    "                       \"kwargs\": {\"xx\":\"-0.3:1:0.001\", \"cint\":-0.085, \"sigmaint\":0.03, \"tau\":0.155}},\n",
    "\n",
    "                   t0 = {\"func\": np.random.uniform, \n",
    "                         \"kwargs\": {\"low\":56_000, \"high\":56_200} },\n",
    "\n",
    "                    isup = {\"func\": np.random.binomial, \n",
    "                         \"kwargs\": {\"n\":1, \"p\":0.5} },\n",
    "                       \n",
    "                   magabs = {\"func\": skysurvey.target.snia.SNeIaMagnitude.tripp_and_step,\n",
    "                             \"kwargs\": {\"x1\": \"@x1\", \"c\": \"@c\", \"isup\": \"@isup\",\n",
    "                                        \"mabs\":-19.3}\n",
    "                            },\n",
    "                           \n",
    "                   magobs = {\"func\": \"magabs_to_magobs\", # str-> method of the class\n",
    "                             \"kwargs\": {\"z\":\"@z\", \"magabs\":\"@magabs\"},\n",
    "                            },\n",
    "\n",
    "                   x0 = {\"func\": \"magobs_to_amplitude\", # str-> method of the class\n",
    "                         \"kwargs\": {\"magobs\":\"@magobs\", \"param_name\": \"x0\"},\n",
    "                        }, #because it needs to call sncosmo_model.get(param_name)\n",
    "                       \n",
    "                   radec = {\"func\": skysurvey.tools.utils.random_radec,\n",
    "                            \"kwargs\": {},\n",
    "                            \"as\": [\"ra\",\"dec\"]\n",
    "                           },\n",
    "                    )\n",
    "\n",
    "ERROR_MODEL = {\"x1\": {\"func\":stats.lognorm.rvs, \"kwargs\": dict(s=0.597, loc=0.0008, scale=0.1673) },\n",
    "                \"c\":  {\"func\":stats.lognorm.rvs, \"kwargs\": dict(s=0.6976, loc=0.0243, scale=0.0086) },\n",
    "                \"magobs\":  {\"func\":stats.lognorm.rvs, \"kwargs\": dict(s=0.882, loc=0.0309, scale=0.007)}}\n",
    "\n",
    "def get_simulation(size, model=SIMULATION_MODEL, errmodel=ERROR_MODEL,\n",
    "                   truth={}, zmax=0.06, **kwargs):\n",
    "    \"\"\" \"\"\"\n",
    "    # Truth\n",
    "    snia = skysurvey.SNeIa.from_draw(size,  zmax=zmax, model=model, magabs=truth, **kwargs)\n",
    "    # noise\n",
    "    snianoisy = snia.apply_gaussian_noise(errmodel)\n",
    "\n",
    "    return snianoisy.data\n",
    "\n",
    "def get_standax_parameters(data, start_params):\n",
    "    \"\"\" \"\"\"\n",
    "    with warnings.catch_warnings():\n",
    "        warnings.simplefilter(\"ignore\")\n",
    "        new_data = pandas.DataFrame({'redshift': np.array(data['z']), 'x1':np.array(data['x1']),\n",
    "    'x1_err':np.array(data['x1_err']), 'c':np.array(data['c']), 'c_err':np.array(data['c_err']), \n",
    "    'cov_x1_c':np.zeros(len(data))*1., 'cov_x0_x1':np.zeros(len(data))*1., 'cov_x0_c':np.zeros(len(data))*1., \n",
    "    'mag':np.array(data['magobs']), 'mag_err':np.array(data['magobs_err']), 'isup':np.array(data['isup']), \n",
    "    'x0':data['x0']})\n",
    "        bl = standax.hubble.HubbleResiduals.from_dataset(new_data)\n",
    "        bl.set_block_hubble_const(False)\n",
    "        bl.set_fit_method('standax')\n",
    "        bl.set_stepmask(np.array(new_data[\"isup\"]==True))\n",
    "        bl.fit_step(guess_sigma=start_params['sigmaint'], guess_beta=start_params['beta'], guess_alpha=start_params['alpha'],\n",
    "                    guess_step=start_params['gamma'], smooth_step=False, force_sigmaint=False)\n",
    "    \n",
    "    return jnp.asarray([bl.alpha, bl.alpha_err, bl.beta, bl.beta_err, bl.step, bl.step_err, bl.sn_scatter])\n",
    "\n",
    "def get_loglikelihood_parameters(data, start_params):\n",
    "    \"\"\" \"\"\"\n",
    "    with warnings.catch_warnings():\n",
    "        warnings.simplefilter(\"ignore\")\n",
    "        new_data = pandas.DataFrame({'redshift': np.array(data['z']), 'x1':np.array(data['x1']),\n",
    "    'x1_err':np.array(data['x1_err']), 'c':np.array(data['c']), 'c_err':np.array(data['c_err']), \n",
    "    'cov_x1_c':np.zeros(len(data))*1., 'cov_x0_x1':np.zeros(len(data))*1., 'cov_x0_c':np.zeros(len(data))*1., \n",
    "    'mag':np.array(data['magobs']), 'mag_err':np.array(data['magobs_err']), 'isup':np.array(data['isup']), \n",
    "    'x0':data['x0']})\n",
    "        bl = standax.hubble.HubbleResiduals.from_dataset(new_data)\n",
    "        bl.set_block_hubble_const(False)\n",
    "        bl.set_fit_method('loglikelihood')\n",
    "        bl.set_stepmask(np.array(new_data[\"isup\"]==True))\n",
    "        bl.fit_step(guess_sigma=start_params['sigmaint'], guess_beta=start_params['beta'], guess_alpha=start_params['alpha'],\n",
    "                    guess_step=start_params['gamma'], smooth_step=False, force_sigmaint=False)\n",
    "    \n",
    "    return jnp.asarray([bl.alpha, bl.alpha_err, bl.beta, bl.beta_err, bl.step, bl.step_err, bl.sn_scatter])\n",
    "\n",
    "\n",
    "# Black magic for parameter scan\n",
    "def mesh_kwargs(**kwargs):\n",
    "    \"\"\"\n",
    "    Create a dataframe with all parameter combinations.\n",
    "\n",
    "    >>> mesh_kwargs(scale=[0.02, 0.05], sigma=[0.03, 0.06])\n",
    "       scale  sigma\n",
    "    0   0.02   0.03\n",
    "    1   0.05   0.03\n",
    "    2   0.02   0.06\n",
    "    3   0.05   0.06\n",
    "    \"\"\"\n",
    "\n",
    "    scan_params = list(kwargs.keys())     # (npar,)\n",
    "    # Number of scanned parameters (i.e. columns in final df)\n",
    "    # npar = len(scan_params)\n",
    "\n",
    "    mesh = np.meshgrid(*kwargs.values())  # npar × (nval1, nval2, ...)\n",
    "    mshape = np.shape(mesh)               # (npar, nval1, nval2, ...)\n",
    "    shape = (mshape[0], np.prod(mshape[1:]))  # (npar, nval1*nval2*...)\n",
    "    df_params = pandas.DataFrame(\n",
    "        np.reshape(mesh, shape).T,        # (nval1*nval2*..., npar)\n",
    "        columns=scan_params)              # (npar,)\n",
    "\n",
    "    return df_params"
   ]
  },
  {
   "cell_type": "markdown",
   "id": "88e71fe9",
   "metadata": {},
   "source": [
    "# Simple ZTF DR2-like simulations"
   ]
  },
  {
   "cell_type": "markdown",
   "id": "98d9232c",
   "metadata": {},
   "source": [
    "### Option 1: running the sims in the notebook\n",
    "\n",
    "This might be a bit long depending on how much simulations you want. For one permutation of the parameters ($\\alpha$, $\\beta$, $\\gamma$ and $\\sig_\\mathrm{int}$), ie 27 simulations, it will take around 40 mins."
   ]
  },
  {
   "cell_type": "code",
   "execution_count": 3,
   "id": "8c7841ae-02a6-4b96-83d4-ba01ed17cabc",
   "metadata": {},
   "outputs": [],
   "source": [
    "df_config = mesh_kwargs(alpha=[-0.2, -0.15, -0.1], \n",
    "                        beta=[2.5, 3.5, 4.5], \n",
    "                        gamma=[0.0, 0.1, 0.2], \n",
    "                        sigmaint=[0.07, 0.12, 0.17])"
   ]
  },
  {
   "cell_type": "code",
   "execution_count": 20,
   "id": "2cd95147",
   "metadata": {},
   "outputs": [],
   "source": [
    "nreal = 1 # The total number of sims will be nreal*27*3"
   ]
  },
  {
   "cell_type": "code",
   "execution_count": 4,
   "id": "950f1f88-0028-49af-8371-a715c34e2f89",
   "metadata": {
    "scrolled": true
   },
   "outputs": [
    {
     "name": "stderr",
     "output_type": "stream",
     "text": [
      "81it [00:36,  2.20it/s]\n"
     ]
    }
   ],
   "source": [
    "simparams_loglikelihood = []\n",
    "for n in range(nreal):\n",
    "    for i, config_ in tqdm(df_config.iloc[:].iterrows()):\n",
    "        simu = get_simulation(size=2_000, truth=config_.to_dict())\n",
    "        params = get_loglikelihood_parameters(simu, config_.to_dict())\n",
    "        simparams_loglikelihood.append(params)"
   ]
  },
  {
   "cell_type": "code",
   "execution_count": 5,
   "id": "1bc84ee2-7f13-47a9-96ec-b26e54ef8884",
   "metadata": {
    "scrolled": true
   },
   "outputs": [
    {
     "name": "stderr",
     "output_type": "stream",
     "text": [
      "81it [34:40, 25.68s/it]\n"
     ]
    }
   ],
   "source": [
    "simparams_edris = []\n",
    "for n in range(nreal):\n",
    "    for i, config_ in tqdm(df_config.iloc[:].iterrows()):\n",
    "        simu = get_simulation(size=2_000, truth=config_.to_dict())\n",
    "        params = get_standax_parameters(simu, config_.to_dict())\n",
    "        simparams_edris.append(params)"
   ]
  },
  {
   "cell_type": "code",
   "execution_count": 6,
   "id": "af0a3342-a97f-4d7b-80e0-e2a173c91046",
   "metadata": {},
   "outputs": [],
   "source": [
    "df_config.rename(columns={'alpha':'alpha_true', 'beta':'beta_true', 'gamma':'gamma_true'}, inplace=True)\n",
    "new_config = pandas.concat([df_config, df_config, df_config, df_config, df_config])\n",
    "new_config = new_config.set_index(pandas.Index(np.linspace(0, 404, 405, dtype=int)))"
   ]
  },
  {
   "cell_type": "code",
   "execution_count": 8,
   "id": "1cb12b52-4f65-4a11-8021-ab46a559f247",
   "metadata": {},
   "outputs": [],
   "source": [
    "results_logl = pandas.DataFrame(simparams_loglikelihood, columns=['alpha', 'alpha_err', 'beta', 'beta_err', 'step', 'step_err', 'sigma'])\n",
    "results_logl = results_logl.merge(new_config, left_index=True, right_index=True)"
   ]
  },
  {
   "cell_type": "code",
   "execution_count": 14,
   "id": "35c002fa-0d74-4bc6-ba85-d200f035b0ce",
   "metadata": {},
   "outputs": [],
   "source": [
    "results_totalchi2 = pandas.DataFrame(simparams_edris, columns=['alpha', 'alpha_err', 'beta', 'beta_err', 'step', 'step_err', 'sigma'])\n",
    "results_totalchi2 = results_totalchi2.merge(new_config, left_index=True, right_index=True)"
   ]
  },
  {
   "cell_type": "markdown",
   "id": "96056067",
   "metadata": {},
   "source": [
    "### Option 2: loading sims \n",
    "\n",
    "This load simulations done with the code in this notebook, with `nreal=5`, corresponding to 405 simulations, like in Fig. A.2 of Ginolin+24b."
   ]
  },
  {
   "cell_type": "code",
   "execution_count": null,
   "id": "095abe5b",
   "metadata": {},
   "outputs": [],
   "source": [
    "results_logl = pandas.read_csv()\n",
    "results_totalchi2 = pandas.read_csv()"
   ]
  },
  {
   "cell_type": "markdown",
   "id": "e31b46c2",
   "metadata": {},
   "source": [
    "# Plotting"
   ]
  },
  {
   "cell_type": "markdown",
   "id": "d35ed400",
   "metadata": {},
   "source": [
    "Computing the pulls for each parameters."
   ]
  },
  {
   "cell_type": "code",
   "execution_count": null,
   "id": "4163d418",
   "metadata": {},
   "outputs": [],
   "source": [
    "results_logl['pull_alpha'] = (results_logl['alpha']+results_logl['alpha_true'])/results_logl['alpha_err']\n",
    "results_logl['pull_beta'] = (results_logl['beta']-results_logl['beta_true'])/results_logl['beta_err']\n",
    "results_logl['pull_gamma'] = (results_logl['step']-results_logl['gamma_true'])/results_logl['step_err']"
   ]
  },
  {
   "cell_type": "code",
   "execution_count": null,
   "id": "7889f589",
   "metadata": {},
   "outputs": [],
   "source": [
    "pulls_alpha = np.array([results_logl['pull_alpha'][results_logl['alpha_true'] == -0.2],\n",
    "                      results_logl['pull_alpha'][results_logl['alpha_true'] == -0.15],\n",
    "                      results_logl['pull_alpha'][results_logl['alpha_true'] == -0.1]])\n",
    "pulls_beta = np.array([results_logl['pull_beta'][results_logl['beta_true'] == 2.5],\n",
    "                      results_logl['pull_beta'][results_logl['beta_true'] == 3.5],\n",
    "                      results_logl['pull_beta'][results_logl['beta_true'] == 4.5]])\n",
    "pulls_gamma = np.array([results_logl['pull_gamma'][results_logl['gamma_true'] == 0],\n",
    "                      results_logl['pull_gamma'][results_logl['gamma_true'] == 0.1],\n",
    "                      results_logl['pull_gamma'][results_logl['gamma_true'] == 0.2]])"
   ]
  },
  {
   "cell_type": "code",
   "execution_count": 16,
   "id": "db68d297-3a60-443c-94fe-f934bf924e32",
   "metadata": {},
   "outputs": [],
   "source": [
    "results_totalchi2['pull_alpha'] = (results_totalchi2['alpha']+results_totalchi2['alpha_true'])/results_totalchi2['alpha_err']\n",
    "results_totalchi2['pull_beta'] = (results_totalchi2['beta']-results_totalchi2['beta_true'])/results_totalchi2['beta_err']\n",
    "results_totalchi2['pull_gamma'] = (results_totalchi2['step']-results_totalchi2['gamma_true'])/results_totalchi2['step_err']"
   ]
  },
  {
   "cell_type": "code",
   "execution_count": 17,
   "id": "324693ad-388a-4bf2-bb2c-576725e5f1ee",
   "metadata": {},
   "outputs": [],
   "source": [
    "pulls_alpha_totalchi2 = np.array([results_totalchi2['pull_alpha'][results_totalchi2['alpha_true'] == -0.2],\n",
    "                      results_totalchi2['pull_alpha'][results_totalchi2['alpha_true'] == -0.15],\n",
    "                      results_totalchi2['pull_alpha'][results_totalchi2['alpha_true'] == -0.1]])\n",
    "pulls_beta_totalchi2 = np.array([results_totalchi2['pull_beta'][results_totalchi2['beta_true'] == 2.5],\n",
    "                      results_totalchi2['pull_beta'][results_totalchi2['beta_true'] == 3.5],\n",
    "                      results_totalchi2['pull_beta'][results_totalchi2['beta_true'] == 4.5]])\n",
    "pulls_gamma_totalchi2 = np.array([results_totalchi2['pull_gamma'][results_totalchi2['gamma_true'] == 0],\n",
    "                      results_totalchi2['pull_gamma'][results_totalchi2['gamma_true'] == 0.1],\n",
    "                      results_totalchi2['pull_gamma'][results_totalchi2['gamma_true'] == 0.2]])"
   ]
  },
  {
   "cell_type": "code",
   "execution_count": 21,
   "id": "07a60225-014a-456c-a432-721d360c798b",
   "metadata": {},
   "outputs": [
    {
     "data": {
      "image/png": "[encoded data removed]",
      "text/plain": [
       "<Figure size 600x600 with 6 Axes>"
      ]
     },
     "metadata": {},
     "output_type": "display_data"
    }
   ],
   "source": [
    "fig, ax = plt.subplots(3, 2, figsize=(6,6))\n",
    "\n",
    "sigbins = np.linspace(-6, 6, 25)\n",
    "xsig = np.linspace(-6, 6, 200)\n",
    "\n",
    "ax[0,0].hist(pulls_alpha.reshape(27*nreal, 3), bins=sigbins, stacked=True, color=['royalblue', 'cornflowerblue', 'lightsteelblue'], density=True,\n",
    "          label=['0.2', '0.15', '0.1'])\n",
    "ax[1,0].hist(pulls_beta.reshape(27*nreal, 3), bins=sigbins, stacked=True, color=['royalblue', 'cornflowerblue', 'lightsteelblue'], density=True,\n",
    "          label=['2.5', '3.5', '4.5'])\n",
    "ax[2,0].hist(pulls_gamma.reshape(27*nreal, 3), bins=sigbins, stacked=True, color=['royalblue', 'cornflowerblue', 'lightsteelblue'], density=True,\n",
    "          label=['0', '0.1', '0.2'])\n",
    "ax[0,1].hist(pulls_alpha_totalchi2.reshape(27*nreal, 3), bins=sigbins, stacked=True, color=['royalblue', 'cornflowerblue', 'lightsteelblue'], density=True,\n",
    "          label=['0.2', '0.15', '0.1'])\n",
    "ax[1,1].hist(pulls_beta_totalchi2.reshape(27*nreal, 3), bins=sigbins, stacked=True, color=['royalblue', 'cornflowerblue', 'lightsteelblue'], density=True,\n",
    "          label=['2.5', '3.5', '4.5'])\n",
    "ax[2,1].hist(pulls_gamma_totalchi2.reshape(27*nreal, 3), bins=sigbins, stacked=True, color=['royalblue', 'cornflowerblue', 'lightsteelblue'], density=True,\n",
    "          label=['0', '0.1', '0.2'])\n",
    "\n",
    "ax[0,0].set_title('Regular loglikelihood')\n",
    "ax[0,1].set_title(r'Total $\\chi^2$')\n",
    "\n",
    "for i in range (3):\n",
    "    ax[i,0].legend(loc='upper right', ncols=1)\n",
    "    for j in range(2):\n",
    "        ax[i,j].plot(xsig, norm.pdf(xsig, 0, 1), c='Black', lw=1)\n",
    "        ax[i,j].set_ylim(0, 0.5)\n",
    "        ax[i,j].spines['left'].set_visible(False)\n",
    "        ax[i,j].spines['top'].set_visible(False)\n",
    "        ax[i,j].spines['right'].set_visible(False)\n",
    "        ax[i,j].set_yticks([])\n",
    "\n",
    "ax[0,0].set_xlabel(r'$\\Delta \\alpha$ (in $\\sigma$)')\n",
    "ax[1,0].set_xlabel(r'$\\Delta \\beta$ (in $\\sigma$)')\n",
    "ax[2,0].set_xlabel(r'$\\Delta \\gamma$ (in $\\sigma$)')\n",
    "ax[0,1].set_xlabel(r'$\\Delta \\alpha$ (in $\\sigma$)')\n",
    "ax[1,1].set_xlabel(r'$\\Delta \\beta$ (in $\\sigma$)')\n",
    "ax[2,1].set_xlabel(r'$\\Delta \\gamma$ (in $\\sigma$)')\n",
    "\n",
    "fig.tight_layout()\n",
    "\n",
    "plt.show()"
   ]
  },
  {
   "cell_type": "code",
   "execution_count": null,
   "id": "c2acb144",
   "metadata": {},
   "outputs": [],
   "source": []
  }
 ],
 "metadata": {
  "kernelspec": {
   "display_name": "Python 3 (ipykernel)",
   "language": "python",
   "name": "python3"
  },
  "language_info": {
   "codemirror_mode": {
    "name": "ipython",
    "version": 3
   },
   "file_extension": ".py",
   "mimetype": "text/x-python",
   "name": "python",
   "nbconvert_exporter": "python",
   "pygments_lexer": "ipython3",
   "version": "3.13.2"
  }
 },
 "nbformat": 4,
 "nbformat_minor": 5
}
