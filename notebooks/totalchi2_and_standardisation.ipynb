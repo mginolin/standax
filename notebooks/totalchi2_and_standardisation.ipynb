{
 "cells": [
  {
   "cell_type": "markdown",
   "id": "ae744256-e592-4a0b-a52b-c57570f3500c",
   "metadata": {},
   "source": [
    "# TotalChi2 and SN Ia standardisation\n",
    "\n",
    "The is an extension of the [total_chi2](total_chi2.ipynb) notebook such that\n",
    "\n",
    "`mag = M + alpha*x1 + beta*c`.\n",
    "\n",
    "In this example, `M`, `alpha` and `beta` are free parameters (to be recovered) and `mag`, `x1` and `c` are observed parameter with errorbars. "
   ]
  },
  {
   "cell_type": "code",
   "execution_count": 1,
   "id": "aca5e78c-a0e9-47da-93bc-af93f536cbea",
   "metadata": {},
   "outputs": [],
   "source": [
    "from scipy import stats\n",
    "import jax\n",
    "import jax.numpy as jnp\n",
    "\n",
    "import numpy as np\n",
    "import matplotlib.pyplot as plt"
   ]
  },
  {
   "cell_type": "markdown",
   "id": "f1a46baa-496f-4fa9-bed9-50db8fcb0b55",
   "metadata": {},
   "source": [
    "Let's draw x1 and c for some non-gaussian function"
   ]
  },
  {
   "cell_type": "markdown",
   "id": "e0f51551-24cd-4f40-a14c-0453690b7bba",
   "metadata": {},
   "source": [
    "## The simulation function"
   ]
  },
  {
   "cell_type": "code",
   "execution_count": 2,
   "id": "78db95c7-d439-4175-af33-508b0d1cd066",
   "metadata": {},
   "outputs": [],
   "source": [
    "x1_func = stats.beta(**{\"a\":18,\"b\":7, \"loc\":-10, \"scale\":13})\n",
    "c_func = stats.alpha(**{\"a\":3.68676,\"loc\":-0.427, \"scale\":1.696})"
   ]
  },
  {
   "cell_type": "code",
   "execution_count": 3,
   "id": "b1ab7119-0821-4ce0-befd-820f6ea31dad",
   "metadata": {},
   "outputs": [],
   "source": [
    "def get_snia_mock(size=1000, magabs=-19.3, \n",
    "                  alpha=-0.15, beta=3.15, \n",
    "                 mag_err = 0.15, x1_err=0.2, c_err=0.05):\n",
    "    \"\"\" get a simulated data\n",
    "\n",
    "    Parameters\n",
    "    ----------\n",
    "    size: int\n",
    "        number of point in the simulation\n",
    "\n",
    "    A, B: float\n",
    "        linear relation parameters such that y=A*x + b\n",
    "\n",
    "    x_err, y_err: float, array\n",
    "        error on observed parameters (must broadcast with size).\n",
    "\n",
    "    Returns\n",
    "    -------\n",
    "    (x, y), (x_true, y_true)\n",
    "        observed and true parameters (you never have access to in real observations)\n",
    "    \"\"\"\n",
    "    import numpy as np\n",
    "    # ------------- #\n",
    "    # modelisation  #\n",
    "    # ------------- #\n",
    "    # This is the true x parameter (i.e., noise free)\n",
    "    x1_true = x1_func.rvs(size)\n",
    "    c_true = x1_func.rvs(size)\n",
    "    \n",
    "    # y is related to the true parameter \n",
    "    mag_true = magabs + x1_true*alpha + c_true*beta\n",
    "    \n",
    "    # now, both are noisy, so\n",
    "    x1 = x1_true + np.random.normal(size=size, loc=0, scale=x1_err)\n",
    "    c = c_true + np.random.normal(size=size, loc=0, scale=c_err)\n",
    "    mag = mag_true + np.random.normal(size=size, loc=0, scale=mag_err)\n",
    "    return (mag, x1, c)"
   ]
  },
  {
   "cell_type": "markdown",
   "id": "491ccc46-fd7d-4bc6-a920-9e0344abad5c",
   "metadata": {},
   "source": [
    "## The loss model (total chi2)"
   ]
  },
  {
   "cell_type": "code",
   "execution_count": 4,
   "id": "877ab644-dc3b-436f-b305-70c328b93edd",
   "metadata": {},
   "outputs": [],
   "source": [
    "def get_totalchi2(params, mag_data, x1_data, c_data, \n",
    "                  mag_err, x1_err, c_err):\n",
    "    \"\"\" \"\"\"\n",
    "    # parse the input\n",
    "    alpha_fit, beta_fit, magabs_fit  = params[\"coefs\"]\n",
    "    (x1_model, c_model) = params[\"xtrue\"]\n",
    "\n",
    "    # mag_model from x1_model and c_model (“_model“ for fitting the truth)\n",
    "    mag_model = magabs_fit + alpha_fit*x1_model + beta_fit*c_model\n",
    "\n",
    "    # chi2 on mag\n",
    "    chi2_mag = jnp.sum( (mag_model - mag_data)**2 /  mag_err**2 )\n",
    "\n",
    "    # chi2 on nuisance\n",
    "    chi2_x1 = jnp.sum( (x1_model - x1_data)**2 /  x1_err**2 )\n",
    "    chi2_c = jnp.sum( (c_model - c_data)**2 /  c_err**2 )\n",
    "    \n",
    "    # x_true_fit constrained by x_data given x_err\n",
    "    return 1/3 * (chi2_mag + chi2_x1 + chi2_c)"
   ]
  },
  {
   "cell_type": "markdown",
   "id": "f1d2fce9-0e83-4515-8510-61a181d283be",
   "metadata": {},
   "source": [
    "## The fitter"
   ]
  },
  {
   "cell_type": "code",
   "execution_count": 5,
   "id": "78b5e80e-4f6e-40d4-890d-12a11bcf1ad1",
   "metadata": {},
   "outputs": [],
   "source": [
    "def fit_adam(func_,  param_init, \n",
    "             learning_rate = 5e-3, niter = 3_000,\n",
    "             tol = 1e-3, **kwargs):\n",
    "    \"\"\" \"\"\"\n",
    "    import optax\n",
    "    # let's make sure they are jax array\n",
    "   \n",
    "    # Initialize the adam optimizer\n",
    "    params = param_init\n",
    "    optimizer = optax.adam(learning_rate)\n",
    "    \n",
    "    # Obtain the `opt_state` that contains statistics for the optimizer.\n",
    "    opt_state = optimizer.init(params)\n",
    "    \n",
    "    # magic of jax ! here is hte gradiant function\n",
    "    grad_func = jax.jit(jax.grad( func_ )) \n",
    "    \n",
    "    # let's store the loss to see.\n",
    "    losses = []\n",
    "    for i in range(niter):\n",
    "        current_grads = grad_func(params, **kwargs)\n",
    "        updates, opt_state = optimizer.update(current_grads, opt_state)\n",
    "        params = optax.apply_updates(params, updates)\n",
    "        losses.append( func_(params, **kwargs) ) # store the loss function\n",
    "        if tol is not None and (i>2 and ((losses[-2] - losses[-1]) < tol)):\n",
    "            break\n",
    "\n",
    "    return params, losses"
   ]
  },
  {
   "cell_type": "markdown",
   "id": "9da1e1de-186b-4dae-8fae-74eb70d87586",
   "metadata": {},
   "source": [
    "## Together"
   ]
  },
  {
   "cell_type": "code",
   "execution_count": 6,
   "id": "c2b0b801-95d5-49cd-9ed5-a06b4dba78c8",
   "metadata": {},
   "outputs": [],
   "source": [
    "model_in = dict(magabs=-19.3, alpha=-0.15, beta=3.15,\n",
    "                mag_err = 0.15, x1_err=0.2, c_err=0.05)\n",
    "mag, x1, c = get_snia_mock(size=1_000, **model_in)\n",
    "mag = jnp.asarray(mag, dtype=\"float32\")\n",
    "x1 = jnp.asarray(x1, dtype=\"float32\")\n",
    "c = jnp.asarray(c, dtype=\"float32\")"
   ]
  },
  {
   "cell_type": "markdown",
   "id": "5a63e0f3-3ed3-4458-b994-a3136d1c9024",
   "metadata": {},
   "source": [
    "initial_guess"
   ]
  },
  {
   "cell_type": "code",
   "execution_count": 7,
   "id": "0d37f3fd-f795-4fd6-883a-d221c5a5759b",
   "metadata": {},
   "outputs": [],
   "source": [
    "param_init = {\"coefs\": jnp.asarray([-0.1, 3.7, -18.5], dtype=\"float32\"),\n",
    "             \"xtrue\": [x1.copy(), c.copy()]}"
   ]
  },
  {
   "cell_type": "code",
   "execution_count": 8,
   "id": "a33868d5-c47d-421e-9063-b38e0dfe95ba",
   "metadata": {},
   "outputs": [],
   "source": [
    "params, losses = fit_adam(get_totalchi2, param_init=param_init,\n",
    "                           learning_rate=1e-3, niter=10_000,\n",
    "                        # and function inputs\n",
    "                        mag_data=mag, x1_data=x1, c_data=c, \n",
    "                        mag_err=model_in.get(\"mag_err\"), \n",
    "                        x1_err=model_in.get(\"x1_err\"), \n",
    "                        c_err=model_in.get(\"c_err\"), \n",
    "                        )"
   ]
  },
  {
   "cell_type": "code",
   "execution_count": 9,
   "id": "88256c99-11d8-4cb3-b6ed-33c58cff5fc5",
   "metadata": {},
   "outputs": [
    {
     "data": {
      "image/png": "[encoded data removed]",
      "text/plain": [
       "<Figure size 700x400 with 1 Axes>"
      ]
     },
     "metadata": {},
     "output_type": "display_data"
    }
   ],
   "source": [
    "fig, ax = plt.subplots(figsize=(7,4))\n",
    "ax.plot(losses)\n",
    "ax.set_yscale(\"log\")"
   ]
  },
  {
   "cell_type": "code",
   "execution_count": 10,
   "id": "8757a7b0-d18b-4a2a-82d9-ba3218736a07",
   "metadata": {},
   "outputs": [
    {
     "data": {
      "text/plain": [
       "Array([ -0.15031593,   3.148503  , -19.305626  ], dtype=float32)"
      ]
     },
     "execution_count": 10,
     "metadata": {},
     "output_type": "execute_result"
    }
   ],
   "source": [
    "params[\"coefs\"]"
   ]
  },
  {
   "cell_type": "code",
   "execution_count": null,
   "id": "e9032651-c6c8-4fc0-bc0b-6195dd6f1754",
   "metadata": {},
   "outputs": [],
   "source": []
  }
 ],
 "metadata": {
  "kernelspec": {
   "display_name": "Python 3 (ipykernel)",
   "language": "python",
   "name": "python3"
  },
  "language_info": {
   "codemirror_mode": {
    "name": "ipython",
    "version": 3
   },
   "file_extension": ".py",
   "mimetype": "text/x-python",
   "name": "python",
   "nbconvert_exporter": "python",
   "pygments_lexer": "ipython3",
   "version": "3.13.2"
  }
 },
 "nbformat": 4,
 "nbformat_minor": 5
}
